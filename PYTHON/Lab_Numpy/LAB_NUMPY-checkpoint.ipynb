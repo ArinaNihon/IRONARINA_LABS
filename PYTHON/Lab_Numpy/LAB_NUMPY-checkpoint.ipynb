{
 "cells": [
  {
   "cell_type": "markdown",
   "id": "312d38f2",
   "metadata": {},
   "source": [
    "# numpy exercises\n",
    "\n",
    "This is a collection of exercises that have been collected in the numpy mailing list, on stack overflow\n",
    "and in the numpy documentation. The goal of this collection is to offer a quick reference for both old\n",
    "and new users but also to provide a set of exercises for those who teach.\n",
    "\n",
    "\n",
    "If you find an error or think you've a better way to solve some of them, feel\n",
    "free to open an issue at <https://github.com/rougier/numpy-100>.\n",
    "File automatically generated. See the documentation to update questions/answers/hints programmatically.\n",
    "\n",
    "#### 1. Import the numpy package under the name `np` (★☆☆)\n",
    "`hint: import … as`\n",
    "\n",
    "#### 2. Create a null vector of size 10 (★☆☆)\n",
    "`hint: np.zeros`\n",
    "\n",
    "#### 3. Create a null vector of size 10 but the fifth value which is 1 (★☆☆)\n",
    "`hint: array[4]`\n",
    "\n",
    "#### 4. Create a vector with values ranging from 10 to 49 (★☆☆)\n",
    "`hint: arange`\n",
    "\n",
    "#### 5. Create a 3x3 matrix with values ranging from 0 to 8 (★☆☆)\n",
    "`hint: reshape`\n",
    "\n",
    "#### 6. Find indices of non-zero elements from [1,2,0,0,4,0] (★☆☆)\n",
    "`hint: np.nonzero`\n",
    "\n",
    "#### 7. Create a 3x3 identity matrix (★☆☆)\n",
    "`hint: np.eye`\n",
    "\n",
    "#### 8. Create a 3x3x3 array with random values (★☆☆)\n",
    "`hint: np.random.random`\n",
    "\n",
    "#### 9. Create a 10x10 array with random values and find the minimum and maximum values (★☆☆)\n",
    "`hint: min, max`\n",
    "\n",
    "#### 10. Create a random vector of size 30 and find the mean value (★☆☆)\n",
    "`hint: mean`\n",
    "\n",
    "#### 11. Create a 5x5 matrix with values 1,2,3,4 just below the diagonal (★☆☆)\n",
    "`hint: np.diag`\n",
    "\n",
    "#### 12. Normalize a 5x5 random matrix (★☆☆)\n",
    "`hint: (x -mean)/std`\n",
    "\n",
    "#### 13. How to find common values between two arrays? (★☆☆)\n",
    "`hint: np.intersect1d`\n",
    "\n",
    "#### 14. Create a random vector of size 10 and sort it (★★☆)\n",
    "`hint: sort`\n",
    "\n",
    "#### 15. Create random vector of size 10 and replace the maximum value by 0 (★★☆)\n",
    "`hint: argmax`\n",
    "\n",
    "#### 16. Subtract the mean of each row of a matrix (★★☆)\n",
    "`hint: mean(axis=,keepdims=)`\n",
    "\n",
    "#### 17. How to get the n largest values of an array (★★★)\n",
    "`Z = np.arange(10000)\n",
    "np.random.shuffle(Z)\n",
    "n = 5\n",
    "hint: np.argsort | np.argpartition`\n",
    "\n",
    "#### 18. Create a random 5*3 matrix and replace items that are larger than 4 by their squares ( Example:  6 --> 36) \n",
    "`hint: np.where`\n"
   ]
  },
  {
   "cell_type": "code",
   "execution_count": 1,
   "id": "65f74084",
   "metadata": {},
   "outputs": [],
   "source": [
    "#### 1. Import the numpy package under the name `np` (★☆☆)\n",
    "import numpy as np"
   ]
  },
  {
   "cell_type": "code",
   "execution_count": 6,
   "id": "df3e64f8",
   "metadata": {},
   "outputs": [
    {
     "name": "stdout",
     "output_type": "stream",
     "text": [
      "[[0. 0. 0. 0. 0. 0. 0. 0. 0. 0.]]\n"
     ]
    }
   ],
   "source": [
    "#### 2. Create a null vector of size 10 (★☆☆)\n",
    "null=np.zeros((1,10))\n",
    "print(null)"
   ]
  },
  {
   "cell_type": "code",
   "execution_count": 15,
   "id": "b944e643",
   "metadata": {},
   "outputs": [
    {
     "name": "stdout",
     "output_type": "stream",
     "text": [
      "[0. 0. 0. 0. 1. 0. 0. 0. 0. 0.]\n"
     ]
    }
   ],
   "source": [
    "#### 3. Create a null vector of size 10 but the fifth value which is 1 (★☆☆)\n",
    "x=np.zeros(10)\n",
    "x[4]=1\n",
    "print(x)"
   ]
  },
  {
   "cell_type": "code",
   "execution_count": 16,
   "id": "3e387334",
   "metadata": {},
   "outputs": [
    {
     "data": {
      "text/plain": [
       "array([10, 11, 12, 13, 14, 15, 16, 17, 18, 19, 20, 21, 22, 23, 24, 25, 26,\n",
       "       27, 28, 29, 30, 31, 32, 33, 34, 35, 36, 37, 38, 39, 40, 41, 42, 43,\n",
       "       44, 45, 46, 47, 48])"
      ]
     },
     "execution_count": 16,
     "metadata": {},
     "output_type": "execute_result"
    }
   ],
   "source": [
    "#### 4. Create a vector with values ranging from 10 to 49 (★☆☆)\n",
    "np.arange(10, 49)\n"
   ]
  },
  {
   "cell_type": "code",
   "execution_count": 23,
   "id": "03cf8062",
   "metadata": {},
   "outputs": [
    {
     "data": {
      "text/plain": [
       "array([[0, 1, 2],\n",
       "       [3, 4, 5],\n",
       "       [6, 7, 8]])"
      ]
     },
     "execution_count": 23,
     "metadata": {},
     "output_type": "execute_result"
    }
   ],
   "source": [
    "#### 5. Create a 3x3 matrix with values ranging from 0 to 8 (★☆☆)\n",
    "np.arange(0,9).reshape((3, 3))"
   ]
  },
  {
   "cell_type": "code",
   "execution_count": 24,
   "id": "b559652a",
   "metadata": {},
   "outputs": [
    {
     "data": {
      "text/plain": [
       "(array([0, 1, 4], dtype=int64),)"
      ]
     },
     "execution_count": 24,
     "metadata": {},
     "output_type": "execute_result"
    }
   ],
   "source": [
    "#### 6. Find indices of non-zero elements from [1,2,0,0,4,0] (★☆☆)\n",
    "n=[1,2,0,0,4,0] \n",
    "np.nonzero(n)"
   ]
  },
  {
   "cell_type": "code",
   "execution_count": 26,
   "id": "ca62213d",
   "metadata": {},
   "outputs": [
    {
     "data": {
      "text/plain": [
       "array([[1, 0, 0],\n",
       "       [0, 1, 0],\n",
       "       [0, 0, 1]])"
      ]
     },
     "execution_count": 26,
     "metadata": {},
     "output_type": "execute_result"
    }
   ],
   "source": [
    "#### 7. Create a 3x3 identity matrix (★☆☆)\n",
    "np.eye(3, dtype=int)"
   ]
  },
  {
   "cell_type": "code",
   "execution_count": 27,
   "id": "5aed255a",
   "metadata": {},
   "outputs": [
    {
     "data": {
      "text/plain": [
       "array([[[0.52518735, 0.73384253, 0.96381954],\n",
       "        [0.75737073, 0.44042681, 0.12061425],\n",
       "        [0.23348717, 0.44381219, 0.76965437]],\n",
       "\n",
       "       [[0.06877385, 0.07826814, 0.18407188],\n",
       "        [0.96752278, 0.25702748, 0.30566946],\n",
       "        [0.62016821, 0.46913532, 0.09825577]],\n",
       "\n",
       "       [[0.90101829, 0.79930144, 0.56638283],\n",
       "        [0.96354086, 0.08403644, 0.48471444],\n",
       "        [0.98186206, 0.20191264, 0.6294171 ]]])"
      ]
     },
     "execution_count": 27,
     "metadata": {},
     "output_type": "execute_result"
    }
   ],
   "source": [
    "#### 8. Create a 3x3x3 array with random values (★☆☆)\n",
    "np.random.random((3,3,3))"
   ]
  },
  {
   "cell_type": "code",
   "execution_count": 31,
   "id": "194a7c37",
   "metadata": {},
   "outputs": [
    {
     "data": {
      "text/plain": [
       "array([[0.60403843, 0.11112907, 0.72158915, 0.06021596, 0.56954322,\n",
       "        0.56869076, 0.44608304, 0.02598335, 0.86890786, 0.66728844],\n",
       "       [0.01476519, 0.18379473, 0.59856381, 0.49855254, 0.34220432,\n",
       "        0.92561418, 0.83510251, 0.58122108, 0.05038024, 0.72783674],\n",
       "       [0.41212622, 0.0590148 , 0.95248533, 0.37165287, 0.85273521,\n",
       "        0.82064379, 0.48668335, 0.48883412, 0.09765646, 0.68773717],\n",
       "       [0.797122  , 0.67959382, 0.99213394, 0.35937956, 0.18269007,\n",
       "        0.2715887 , 0.29774553, 0.7534269 , 0.52273582, 0.87904593],\n",
       "       [0.45515279, 0.99697176, 0.47354926, 0.7405671 , 0.96506323,\n",
       "        0.65072684, 0.06947217, 0.4243461 , 0.70917957, 0.76119449],\n",
       "       [0.88279924, 0.02086368, 0.20225229, 0.73616286, 0.24702884,\n",
       "        0.19804776, 0.26270098, 0.13395845, 0.96607698, 0.83028058],\n",
       "       [0.95680534, 0.48032106, 0.49210622, 0.60476587, 0.9586515 ,\n",
       "        0.31882846, 0.36713907, 0.99337873, 0.83011015, 0.9865807 ],\n",
       "       [0.23306752, 0.40135956, 0.5893828 , 0.9338692 , 0.64371926,\n",
       "        0.25848944, 0.91903145, 0.19914017, 0.34272171, 0.64668527],\n",
       "       [0.98116549, 0.18698253, 0.13212883, 0.58541159, 0.12910925,\n",
       "        0.4464937 , 0.9079423 , 0.92218266, 0.0282568 , 0.68002363],\n",
       "       [0.06926517, 0.03396423, 0.59758619, 0.50389895, 0.08142927,\n",
       "        0.906352  , 0.78134005, 0.98211178, 0.08971427, 0.48716677]])"
      ]
     },
     "execution_count": 31,
     "metadata": {},
     "output_type": "execute_result"
    }
   ],
   "source": [
    "#### 9. Create a 10x10 array with random values and find the minimum and maximum values (★☆☆)\n",
    "a = np.random.random((10,10))\n",
    "a"
   ]
  },
  {
   "cell_type": "code",
   "execution_count": 34,
   "id": "590b85e5",
   "metadata": {},
   "outputs": [
    {
     "data": {
      "text/plain": [
       "0.014765194318069663"
      ]
     },
     "execution_count": 34,
     "metadata": {},
     "output_type": "execute_result"
    }
   ],
   "source": [
    "a.min()"
   ]
  },
  {
   "cell_type": "code",
   "execution_count": 35,
   "id": "2b66b3d2",
   "metadata": {},
   "outputs": [
    {
     "data": {
      "text/plain": [
       "0.9969717637451413"
      ]
     },
     "execution_count": 35,
     "metadata": {},
     "output_type": "execute_result"
    }
   ],
   "source": [
    "a.max()"
   ]
  },
  {
   "cell_type": "code",
   "execution_count": 37,
   "id": "24ee26b5",
   "metadata": {},
   "outputs": [
    {
     "data": {
      "text/plain": [
       "array([[0.4049138 , 0.52722565, 0.12084993, 0.78915836, 0.74283941,\n",
       "        0.33956875, 0.65279826, 0.63009174, 0.38382762, 0.36992339,\n",
       "        0.71455219, 0.3072376 , 0.14579716, 0.46070623, 0.35399315,\n",
       "        0.96312946, 0.85652356, 0.53025279, 0.73050156, 0.54664396,\n",
       "        0.07716008, 0.46683479, 0.7100965 , 0.61644563, 0.25201632,\n",
       "        0.22989423, 0.91571685, 0.7605875 , 0.98878955, 0.91340026]])"
      ]
     },
     "execution_count": 37,
     "metadata": {},
     "output_type": "execute_result"
    }
   ],
   "source": [
    "#### 10. Create a random vector of size 30 and find the mean value (★☆☆)\n",
    "b = np.random.random((1,30))\n",
    "b"
   ]
  },
  {
   "cell_type": "code",
   "execution_count": 39,
   "id": "60c06b75",
   "metadata": {},
   "outputs": [
    {
     "data": {
      "text/plain": [
       "0.5500492093965489"
      ]
     },
     "execution_count": 39,
     "metadata": {},
     "output_type": "execute_result"
    }
   ],
   "source": [
    "np.mean(b)"
   ]
  },
  {
   "cell_type": "code",
   "execution_count": 58,
   "id": "4bda69f6",
   "metadata": {},
   "outputs": [
    {
     "data": {
      "text/plain": [
       "array([[0, 0, 0, 0, 0],\n",
       "       [1, 0, 0, 0, 0],\n",
       "       [0, 2, 0, 0, 0],\n",
       "       [0, 0, 3, 0, 0],\n",
       "       [0, 0, 0, 4, 0]])"
      ]
     },
     "execution_count": 58,
     "metadata": {},
     "output_type": "execute_result"
    }
   ],
   "source": [
    "#### 11. Create a 5x5 matrix with values 1,2,3,4 just below the diagonal (★☆☆)\n",
    "d = np.diag(1+np.arange(4),k=-1)\n",
    "d"
   ]
  },
  {
   "cell_type": "code",
   "execution_count": 68,
   "id": "6220f399",
   "metadata": {},
   "outputs": [
    {
     "name": "stdout",
     "output_type": "stream",
     "text": [
      "[[0.02209213 0.40395762 0.88582856 0.98687351 0.54468941]\n",
      " [0.37882251 0.27936642 1.         0.29045709 0.12397515]\n",
      " [0.81593336 0.30819365 0.58353597 0.11063831 0.0686354 ]\n",
      " [0.92109018 0.41102355 0.23554508 0.26487739 0.72712427]\n",
      " [0.54060991 0.76048906 0.57204346 0.         0.78682533]]\n"
     ]
    }
   ],
   "source": [
    "#### 12. Normalize a 5x5 random matrix (★☆☆)\n",
    "x = np.random.random((5,5))\n",
    "xmin = x.min()\n",
    "xmax=x.max()\n",
    "u = (x - xmin)/(xmax - xmin)\n",
    "#z=(x -np.mean)/np.std\n",
    "print(u)"
   ]
  },
  {
   "cell_type": "code",
   "execution_count": 75,
   "id": "3117b6c7",
   "metadata": {},
   "outputs": [
    {
     "data": {
      "text/plain": [
       "array([0, 1, 2, 3])"
      ]
     },
     "execution_count": 75,
     "metadata": {},
     "output_type": "execute_result"
    }
   ],
   "source": [
    "#### 13. How to find common values between two arrays? (★☆☆)\n",
    "t=np.arange(0,9).reshape((3, 3))\n",
    "v=np.arange(0,4).reshape((2, 2))\n",
    "f=np.intersect1d(t, v)\n",
    "f"
   ]
  },
  {
   "cell_type": "code",
   "execution_count": 82,
   "id": "b96463ec",
   "metadata": {},
   "outputs": [
    {
     "data": {
      "text/plain": [
       "array([[0.08545452, 0.12848935, 0.36053302, 0.38588267, 0.57237681,\n",
       "        0.6116392 , 0.70250969, 0.74182081, 0.87920506, 0.97280091]])"
      ]
     },
     "execution_count": 82,
     "metadata": {},
     "output_type": "execute_result"
    }
   ],
   "source": [
    "#### 14. Create a random vector of size 10 and sort it (★★☆)\n",
    "h = np.random.random((1,10))\n",
    "k=np.sort(h)\n",
    "k"
   ]
  },
  {
   "cell_type": "code",
   "execution_count": 101,
   "id": "62b0d7bf",
   "metadata": {},
   "outputs": [
    {
     "name": "stdout",
     "output_type": "stream",
     "text": [
      "Original array:\n",
      "[0.37858808 0.42012208 0.1754204  0.26850051 0.91578168 0.9752581\n",
      " 0.10297237 0.90145375 0.18624775 0.09614345]\n",
      "Maximum value replaced by 0:\n",
      "[0.37858808 0.42012208 0.1754204  0.26850051 0.91578168 0.\n",
      " 0.10297237 0.90145375 0.18624775 0.09614345]\n"
     ]
    }
   ],
   "source": [
    "#### 15. Create random vector of size 10 and replace the maximum value by 0 (★★☆)\n",
    "x = np.random.random(10)\n",
    "print(\"Original array:\")\n",
    "print(x)\n",
    "x[x.argmax()] = 0\n",
    "print(\"Maximum value replaced by 0:\")\n",
    "print(x)"
   ]
  },
  {
   "cell_type": "code",
   "execution_count": 106,
   "id": "18142342",
   "metadata": {},
   "outputs": [
    {
     "name": "stdout",
     "output_type": "stream",
     "text": [
      "[[0 1 2]\n",
      " [3 4 5]\n",
      " [6 7 8]]\n",
      "[[-1.  0.  1.]\n",
      " [-1.  0.  1.]\n",
      " [-1.  0.  1.]]\n"
     ]
    }
   ],
   "source": [
    "#### 16. Subtract the mean of each row of a matrix (★★☆)\n",
    "d=np.arange(0,9).reshape((3, 3))\n",
    "print(d)\n",
    "f = d - d.mean(axis=1, keepdims=True)\n",
    "print(f)"
   ]
  },
  {
   "cell_type": "code",
   "execution_count": 112,
   "id": "fcc7b36a",
   "metadata": {},
   "outputs": [
    {
     "name": "stdout",
     "output_type": "stream",
     "text": [
      "[1495 8491 2202 ... 8142 1085 9892]\n",
      "[0.37858808]\n"
     ]
    }
   ],
   "source": [
    "#### 17. How to get the n largest values of an array (★★★)\n",
    "Z = np.arange(10000)\n",
    "c=np.random.shuffle(Z)\n",
    "print(Z)\n",
    "n = 5\n",
    "print (x[np.argsort(c)[-n:]])"
   ]
  },
  {
   "cell_type": "code",
   "execution_count": 116,
   "id": "cbc57b0b",
   "metadata": {},
   "outputs": [
    {
     "name": "stdout",
     "output_type": "stream",
     "text": [
      "[[0.08277916 0.78293942 0.95139823]\n",
      " [0.69336548 0.08310888 0.2509761 ]\n",
      " [0.15966205 0.06730454 0.92328287]\n",
      " [0.48765856 0.00768719 0.85467018]\n",
      " [0.62660003 0.14856588 0.57439233]]\n"
     ]
    },
    {
     "data": {
      "text/plain": [
       "array([[6.85238940e-03, 6.12994138e-01, 9.05158594e-01],\n",
       "       [4.80755692e-01, 6.90708584e-03, 6.29890051e-02],\n",
       "       [2.54919713e-02, 4.52990125e-03, 8.52451250e-01],\n",
       "       [2.37810873e-01, 5.90928965e-05, 7.30461112e-01],\n",
       "       [3.92627594e-01, 2.20718214e-02, 3.29926552e-01]])"
      ]
     },
     "execution_count": 116,
     "metadata": {},
     "output_type": "execute_result"
    }
   ],
   "source": [
    "#### 18. Create a random 5*3 matrix and replace items that are larger than 4 by their squares ( Example:  6 --> 36) \n",
    "h = np.random.random((5,3))\n",
    "print(h)\n",
    "s=np.where(h > 4, h, h**2)\n",
    "s"
   ]
  },
  {
   "cell_type": "code",
   "execution_count": null,
   "id": "083d2178",
   "metadata": {},
   "outputs": [],
   "source": []
  },
  {
   "cell_type": "code",
   "execution_count": null,
   "id": "21f64df0",
   "metadata": {},
   "outputs": [],
   "source": []
  }
 ],
 "metadata": {
  "kernelspec": {
   "display_name": "Python 3 (ipykernel)",
   "language": "python",
   "name": "python3"
  },
  "language_info": {
   "codemirror_mode": {
    "name": "ipython",
    "version": 3
   },
   "file_extension": ".py",
   "mimetype": "text/x-python",
   "name": "python",
   "nbconvert_exporter": "python",
   "pygments_lexer": "ipython3",
   "version": "3.9.12"
  }
 },
 "nbformat": 4,
 "nbformat_minor": 5
}
